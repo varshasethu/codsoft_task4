{
 "cells": [
  {
   "cell_type": "code",
   "execution_count": null,
   "id": "77d6a16b-0157-4731-8c6b-42add3a49d1f",
   "metadata": {},
   "outputs": [],
   "source": [
    "# Sales Prediction\n",
    "\n",
    "# Step 1: Importing Libraries\n",
    "import pandas as pd\n",
    "import numpy as np\n",
    "import seaborn as sns\n",
    "import matplotlib.pyplot as plt\n",
    "from sklearn.model_selection import train_test_split\n",
    "from sklearn.linear_model import LinearRegression\n",
    "from sklearn.metrics import mean_squared_error, r2_score\n"
   ]
  },
  {
   "cell_type": "code",
   "execution_count": null,
   "id": "63ef7228-5ef7-4867-b4bf-b44a1d529152",
   "metadata": {},
   "outputs": [],
   "source": [
    "# Step 2: Importing Dataset\n",
    "file_path = 'advertising.csv'  # Ensure the dataset is in the same directory\n",
    "df = pd.read_csv(file_path)\n",
    "print(\"Dataset loaded successfully.\")\n"
   ]
  },
  {
   "cell_type": "code",
   "execution_count": null,
   "id": "3179f20f-0933-498e-925b-2d5030bd1b6c",
   "metadata": {},
   "outputs": [],
   "source": [
    "# Step 3: Data Preprocessing\n",
    "print(\"\\nDataset Summary:\\n\", df.describe())"
   ]
  },
  {
   "cell_type": "code",
   "execution_count": null,
   "id": "70cad046-7de7-4350-99cc-6b476cacecf8",
   "metadata": {},
   "outputs": [],
   "source": [
    "\n",
    "# Step 4: Splitting the Dataset\n",
    "X = df[['TV', 'Radio', 'Newspaper']]  # Features\n",
    "y = df['Sales']  # Target\n",
    "X_train, X_test, y_train, y_test = train_test_split(X, y, test_size=0.2, random_state=42"
   ]
  },
  {
   "cell_type": "code",
   "execution_count": null,
   "id": "4ffa79f1-e254-442b-8bdd-74ed3100c6c5",
   "metadata": {},
   "outputs": [],
   "source": [
    "# Step 5: Model Training\n",
    "model = LinearRegression()\n",
    "model.fit(X_train, y_train)\n"
   ]
  },
  {
   "cell_type": "code",
   "execution_count": null,
   "id": "3deb48a8-59f3-40d0-b5e7-0924443f2fcf",
   "metadata": {},
   "outputs": [],
   "source": [
    "# Step 6: Model Prediction\n",
    "y_pred = model.predict(X_test)\n"
   ]
  },
  {
   "cell_type": "code",
   "execution_count": null,
   "id": "344418b2-63e2-4fd8-be6d-12cb0c888b53",
   "metadata": {},
   "outputs": [],
   "source": [
    "# Step 7: Data Visualization and Evaluation\n",
    "# Actual vs Predicted Sales\n",
    "plt.scatter(y_test, y_pred, alpha=0.7)\n",
    "plt.xlabel(\"Actual Sales\")\n",
    "plt.ylabel(\"Predicted Sales\")\n",
    "plt.title(\"Actual vs Predicted Sales\")\n",
    "plt.show()\n"
   ]
  },
  {
   "cell_type": "code",
   "execution_count": null,
   "id": "a5290dc2-274e-4231-b4ee-cf83a8b84e09",
   "metadata": {},
   "outputs": [],
   "source": [
    "# Residual Distribution\n",
    "residuals = y_test - y_pred\n",
    "sns.histplot(residuals, kde=True, bins=20)\n",
    "plt.title(\"Residual Distribution\")\n",
    "plt.xlabel(\"Residuals\")\n",
    "plt.show()\n"
   ]
  },
  {
   "cell_type": "code",
   "execution_count": null,
   "id": "0d041bca-efa3-4e89-b75d-770419493602",
   "metadata": {},
   "outputs": [],
   "source": [
    "# Model Evaluation\n",
    "mse = mean_squared_error(y_test, y_pred)\n",
    "r2 = r2_score(y_test, y_pred)\n",
    "print(f\"Mean Squared Error (MSE): {mse}\")\n",
    "print(f\"R-squared (R2) Score: {r2}\")"
   ]
  }
 ],
 "metadata": {
  "kernelspec": {
   "display_name": "Python 3 (ipykernel)",
   "language": "python",
   "name": "python3"
  },
  "language_info": {
   "codemirror_mode": {
    "name": "ipython",
    "version": 3
   },
   "file_extension": ".py",
   "mimetype": "text/x-python",
   "name": "python",
   "nbconvert_exporter": "python",
   "pygments_lexer": "ipython3",
   "version": "3.12.7"
  }
 },
 "nbformat": 4,
 "nbformat_minor": 5
}
